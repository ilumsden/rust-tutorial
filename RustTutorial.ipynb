{
 "cells": [
  {
   "cell_type": "markdown",
   "metadata": {},
   "source": [
    "# Rust Tutorial\n",
    "\n",
    "This notebook contains various Rust code samples for this tutorial. The code is split between sessions."
   ]
  },
  {
   "cell_type": "markdown",
   "metadata": {},
   "source": [
    "## Session 1\n",
    "\n",
    "Tutorial Contents:\n",
    "1. What is Rust, and why you should use it?\n",
    "2. Language Rules:\n",
    "  1. Ownership Rules\n",
    "  2. Borrowing\n",
    "  3. Array/Vec Slicing\n",
    "  4. String Slicing\n",
    "  5. Mutability/Shadowing\n",
    "  6. Lifetimes"
   ]
  },
  {
   "cell_type": "markdown",
   "metadata": {},
   "source": [
    "### Ownership Rules"
   ]
  },
  {
   "cell_type": "code",
   "execution_count": null,
   "metadata": {},
   "outputs": [],
   "source": [
    "let s1 = String::from(\"hello\");\n",
    "let s2 = s1;\n",
    "println!(\"{}\", s1);\n",
    "println!(\"{}\", s2);"
   ]
  },
  {
   "cell_type": "markdown",
   "metadata": {},
   "source": [
    "### Borrowing"
   ]
  },
  {
   "cell_type": "code",
   "execution_count": null,
   "metadata": {},
   "outputs": [],
   "source": [
    "fn concat(a: &String, b: &String) -> String {\n",
    "    format!(\"{}{}\", a, b)\n",
    "}\n",
    "\n",
    "let s1 = String::from(\"Hello \");\n",
    "let s2 = String::from(\"World!\");\n",
    "let s3 = concat(&s1, &s2);\n",
    "println!(\"{} + {} = {}\", s1, s2, s3);"
   ]
  },
  {
   "cell_type": "markdown",
   "metadata": {},
   "source": [
    "### Array/Vec Slicing"
   ]
  },
  {
   "cell_type": "code",
   "execution_count": null,
   "metadata": {},
   "outputs": [],
   "source": [
    "let numarr = [0, 1, 2, 3, 4, 5];\n",
    "let numvec = vec![0, 1, 2, 3, 4, 5];\n",
    "print!(\"Array Contents: \");\n",
    "for n in &numarr {\n",
    "    print!(\"{} \", n);\n",
    "};\n",
    "println!(\"\");\n",
    "print!(\"Array Contents from Indices 2 through 4: \");\n",
    "for n in &numarr[2..5] {\n",
    "    print!(\"{} \", n);\n",
    "};\n",
    "println!(\"\");\n",
    "\n",
    "print!(\"Vector Contents: \");\n",
    "for n in numvec.iter() {\n",
    "    print!(\"{} \", n);  \n",
    "};\n",
    "println!(\"\");\n",
    "print!(\"Vector Contents from Indices 2 through 4: \");\n",
    "for n in &numarr[2..5] {\n",
    "    print!(\"{} \", n);\n",
    "};\n",
    "println!(\"\");"
   ]
  },
  {
   "cell_type": "markdown",
   "metadata": {},
   "source": [
    "### String Slicing"
   ]
  },
  {
   "cell_type": "code",
   "execution_count": null,
   "metadata": {},
   "outputs": [],
   "source": [
    "fn concat_std_string(a: &String, b: &String) -> String {\n",
    "    format!(\"{}{}\", a, b)\n",
    "}\n",
    "\n",
    "fn concat_string_slice(a: &str, b: &str) -> String {\n",
    "    format!(\"{}{}\", a, b)\n",
    "}\n",
    "\n",
    "let string1 = String::from(\"Hello \");\n",
    "let string2 = String::from(\"Rustaceans\");\n",
    "let str0 = \"World\";"
   ]
  },
  {
   "cell_type": "code",
   "execution_count": null,
   "metadata": {},
   "outputs": [],
   "source": [
    "println!(\"Concatenate Standard Strings:\");\n",
    "println!(\"{} + {} = {}\", string1, string2, concat_std_string(&string1, &string2));"
   ]
  },
  {
   "cell_type": "code",
   "execution_count": null,
   "metadata": {},
   "outputs": [],
   "source": [
    "println!(\"{} + {} = {}\", string1, str0, concat_std_string(&string1, &str0));"
   ]
  },
  {
   "cell_type": "code",
   "execution_count": null,
   "metadata": {},
   "outputs": [],
   "source": [
    "println!(\"Concatenate String Literals:\");\n",
    "println!(\"{} + {} = {}\", string1, str0, concat_string_slice(&string1[..], &str0));\n",
    "println!(\"{} + {} = {}\", string1, string2, concat_std_string(&string1, &string2));"
   ]
  },
  {
   "cell_type": "markdown",
   "metadata": {},
   "source": [
    "### Mutability and Shadowing"
   ]
  },
  {
   "cell_type": "code",
   "execution_count": null,
   "metadata": {},
   "outputs": [],
   "source": [
    "let x = 50;\n",
    "println!(\"x is {} (First Assignment)\", x);\n",
    "x = 10;\n",
    "println!(\"x is {} (Second Assignment)\", x);"
   ]
  },
  {
   "cell_type": "code",
   "execution_count": null,
   "metadata": {},
   "outputs": [],
   "source": [
    "let mut x = 50;\n",
    "println!(\"x is {} (First Assignment)\", x);\n",
    "x = 10;\n",
    "println!(\"x is {} (Second Assignment)\", x);"
   ]
  },
  {
   "cell_type": "code",
   "execution_count": null,
   "metadata": {},
   "outputs": [],
   "source": [
    "let x = 50u64;\n",
    "println!(\"x is {} (First Assignment)\", x);\n",
    "let x = x.pow(2);\n",
    "println!(\"x is {} (Second Assignment)\", x);\n",
    "let x = x * 2;\n",
    "println!(\"x is {} (Third Assignment)\", x);"
   ]
  },
  {
   "cell_type": "markdown",
   "metadata": {},
   "source": [
    "### Lifetimes"
   ]
  },
  {
   "cell_type": "code",
   "execution_count": null,
   "metadata": {},
   "outputs": [],
   "source": [
    "fn split<'a>(string: &'a str) -> Vec<&'a str> {\n",
    "    string.split(\",\").collect()\n",
    "}\n",
    "\n",
    "let x = \"Hello,World,What's,Your,Name?\";\n",
    "print!(\"Split form of {} is: \", x);\n",
    "for w in split(x).iter() {\n",
    "    print!(\"{} \", w);\n",
    "}\n",
    "println!(\"\");"
   ]
  },
  {
   "cell_type": "markdown",
   "metadata": {},
   "source": [
    "## Session 2\n",
    "\n",
    "Tutorial Contents:\n",
    "1. \"Object Oriented\" Rust\n",
    "  1. Structs\n",
    "  2. Traits\n",
    "2. Enums\n",
    "  1. Custom, User-Defined Enums\n",
    "  2. Built-In Enums"
   ]
  },
  {
   "cell_type": "markdown",
   "metadata": {},
   "source": [
    "### Structs"
   ]
  },
  {
   "cell_type": "code",
   "execution_count": null,
   "metadata": {},
   "outputs": [],
   "source": [
    "struct Point {\n",
    "    x: i32,\n",
    "    y: i32,\n",
    "    z: i32,\n",
    "}"
   ]
  },
  {
   "cell_type": "code",
   "execution_count": null,
   "metadata": {},
   "outputs": [],
   "source": [
    "impl Point {\n",
    "    fn new(a: i32, b: i32, c: i32) -> Point {\n",
    "        Point { x: a, y: b, z: c }\n",
    "    }\n",
    "    \n",
    "    fn calc_dist(&self, other: &Point) -> f64 {\n",
    "        (((self.x - other.x).pow(2) as f64) +\n",
    "         ((self.y - other.y).pow(2) as f64) +\n",
    "         ((self.z - other.z).pow(2) as f64)).sqrt()\n",
    "    }\n",
    "}"
   ]
  },
  {
   "cell_type": "code",
   "execution_count": null,
   "metadata": {},
   "outputs": [],
   "source": [
    "let p0 = Point::new(1, 2, 3);\n",
    "let p1 = Point::new(5, 4, 7);\n",
    "let dist: f64 = p0.calc_dist(&p1);\n",
    "println!(\"Distance is: {}\", dist);"
   ]
  },
  {
   "cell_type": "markdown",
   "metadata": {},
   "source": [
    "### Traits"
   ]
  },
  {
   "cell_type": "code",
   "execution_count": null,
   "metadata": {},
   "outputs": [],
   "source": [
    "trait Spherical {\n",
    "    fn to_spherical(&self) -> (f64, f64, f64);\n",
    "}\n",
    "\n",
    "impl Spherical for Point {\n",
    "    fn to_spherical(&self) -> (f64, f64, f64) {\n",
    "        let r = ((self.x.pow(2) as f64) +\n",
    "                 (self.y.pow(2) as f64) +\n",
    "                 (self.z.pow(2) as f64)).sqrt();\n",
    "        let phi = ((self.y as f64) / r).acos();\n",
    "        let theta = ((self.z as f64) / r).acos();\n",
    "        (r, phi, theta)\n",
    "    }\n",
    "}\n",
    "\n",
    "impl std::fmt::Display for Point {\n",
    "    fn fmt(&self, f: &mut std::fmt::Formatter) -> std::fmt::Result {\n",
    "        write!(f, \"({}, {}, {})\", self.x, self.y, self.z)\n",
    "    }\n",
    "}"
   ]
  },
  {
   "cell_type": "code",
   "execution_count": null,
   "metadata": {},
   "outputs": [],
   "source": [
    "let (r, phi, theta) = p0.to_spherical();\n",
    "println!(\"Point 0 is {}\", p0);\n",
    "println!(\"Point 1 is {}\", p1);\n",
    "println!(\"Spherical Coordinates for Point 0: ({}, {}, {})\", r, phi, theta);"
   ]
  },
  {
   "cell_type": "markdown",
   "metadata": {},
   "source": [
    "### User-Defined Enums"
   ]
  },
  {
   "cell_type": "code",
   "execution_count": null,
   "metadata": {},
   "outputs": [],
   "source": [
    "enum IpAddr {\n",
    "    V4(u8, u8, u8, u8),\n",
    "    V6(String),\n",
    "}\n",
    "\n",
    "impl IpAddr {\n",
    "    fn to_v6(&self) -> Self {\n",
    "        let v6_addr = match self {\n",
    "            IpAddr::V4(a, b, c, d) => {\n",
    "                let mut hex_string = Vec::new();\n",
    "                for val in vec![a, b, c, d].iter() {\n",
    "                    let four_bits = **val >> 4;\n",
    "                    hex_string.push(four_bits);\n",
    "                    let four_bits = **val & 0x0F;\n",
    "                    hex_string.push(four_bits);\n",
    "                };\n",
    "                let mut addr = String::from(\"\");\n",
    "                for (i, hex) in hex_string.iter().enumerate() {\n",
    "                    if i % 4 == 0 && i != 0 {\n",
    "                        addr = format!(\"{}:\", addr);\n",
    "                    };\n",
    "                    addr = format!(\"{}{:X}\", addr, hex);\n",
    "                };\n",
    "                addr\n",
    "            },\n",
    "            IpAddr::V6(addr) => addr.clone(),\n",
    "        };\n",
    "        IpAddr::V6(v6_addr)\n",
    "    }\n",
    "}\n",
    "\n",
    "impl std::fmt::Display for IpAddr {\n",
    "    fn fmt(&self, f: &mut std::fmt::Formatter) -> std::fmt::Result {\n",
    "        match self {\n",
    "            IpAddr::V4(a, b, c, d) => write!(f, \"{}.{}.{}.{}\", a, b, c, d),\n",
    "            IpAddr::V6(addr) => write!(f, \"{}\", addr),\n",
    "        }\n",
    "    }\n",
    "}"
   ]
  },
  {
   "cell_type": "code",
   "execution_count": null,
   "metadata": {},
   "outputs": [],
   "source": [
    "// Replace the numbers with the desired IPV4 Address\n",
    "let v4_addr = IpAddr::V4(125, 0, 0, 1);\n",
    "let v6_addr = v4_addr.to_v6();\n",
    "\n",
    "println!(\"IPV4 Address: {}\", v4_addr);\n",
    "println!(\"IPV6 Address: {}\", v6_addr);"
   ]
  },
  {
   "cell_type": "markdown",
   "metadata": {},
   "source": [
    "### Built-In Enums"
   ]
  },
  {
   "cell_type": "code",
   "execution_count": null,
   "metadata": {},
   "outputs": [],
   "source": [
    "fn quadratic_formula(a: f64, b: f64, c: f64) -> Result<f64, &'static str> {\n",
    "    if a == 0f64 {\n",
    "        return Err(\"\\\"a\\\" cannot be zero because that would cause a divide-by-zero error!\");\n",
    "    };\n",
    "    let radical = (b.powi(2) - 4f64 * a * c).sqrt();\n",
    "    if radical.is_nan() {\n",
    "        return Err(\"The provided values of \\\"a\\\", \\\"b\\\", and \\\"c\\\" produced a negative radicand.\");  \n",
    "    };\n",
    "    let neg = (-b - radical) / (2f64 * a);\n",
    "    let pos = (-b + radical) / (2f64 * a);\n",
    "    if pos > neg {\n",
    "        Ok(pos)\n",
    "    } else {\n",
    "        Ok(neg)\n",
    "    }\n",
    "}\n",
    "\n",
    "println!(\"Quadratic Formula(1, 2, 1) = {}\", quadratic_formula(1f64, 2f64, 1f64).unwrap());"
   ]
  },
  {
   "cell_type": "code",
   "execution_count": null,
   "metadata": {},
   "outputs": [],
   "source": [
    "println!(\"Quadratic Formula(2, 1, 2) = {}\", quadratic_formula(2f64, 1f64, 2f64).unwrap());"
   ]
  },
  {
   "cell_type": "code",
   "execution_count": null,
   "metadata": {},
   "outputs": [],
   "source": [
    "println!(\"Quadratic Formula(0, 2, 1) = {}\", quadratic_formula(0., 2., 1.).unwrap());"
   ]
  },
  {
   "cell_type": "markdown",
   "metadata": {},
   "source": [
    "## Session 3\n",
    "\n",
    "Tutorial Contents:\n",
    "1. Module System\n",
    "  1. Visibility Modifiers and Importing Modules\n",
    "2. Advanced Features\n",
    "  1. Iterators\n",
    "  2. Macros"
   ]
  },
  {
   "cell_type": "markdown",
   "metadata": {},
   "source": [
    "### Visibility Modifiers and Importing Modules"
   ]
  },
  {
   "cell_type": "code",
   "execution_count": null,
   "metadata": {},
   "outputs": [],
   "source": [
    ":dep generic-array\n",
    ":dep typenum = { version = \">=1.0.0\" }\n",
    ":dep sha3 = { version = \"0.9.0\"}\n",
    "\n",
    "use sha3::{\n",
    "    Digest,\n",
    "    Sha3_256,\n",
    "};\n",
    "\n",
    "struct User<'a, 'b> {\n",
    "    pub username: &'a str,\n",
    "    pub password: &'b [u8],\n",
    "}\n",
    "\n",
    "fn get_greater_username<'a>(uname0: &'a str, uname1: &'a str) -> &'a str {\n",
    "    if uname0 > uname1 {\n",
    "        uname0\n",
    "    } else {\n",
    "        uname1\n",
    "    }\n",
    "}\n",
    "\n",
    "fn user_test() {\n",
    "    let mut hasher = Sha3_256::new();\n",
    "    hasher.update(b\"password\");\n",
    "    let password = hasher.finalize();\n",
    "    let user0 = User { username: \"first\", password: password.as_slice() };\n",
    "    let user1 = User { username: \"second\", password: password.as_slice() };\n",
    "    let greater_uname = get_greater_username(user0.username, user1.username);\n",
    "    println!(\"User 0:\\n  Username: {}\\n  Password Hash: {}\\n\", user0.username, String::from_utf8_lossy(user0.password));\n",
    "    println!(\"User 1:\\n  Username: {}\\n  Password Hash: {}\\n\", user1.username, String::from_utf8_lossy(user1.password));\n",
    "    println!(\"Greater User is {}\", greater_uname);\n",
    "}\n",
    "\n",
    "user_test();"
   ]
  },
  {
   "cell_type": "markdown",
   "metadata": {},
   "source": [
    "### Iterators\n",
    "\n",
    "Unfortunately, _evcxr_ does not seem to be capable of handling certain iterators currently. As a result, the code for the __Iterators__ example is in the `wordcount.rs` file in this directory.\n",
    "\n",
    "To build this file, run the following from this directory:\n",
    "```bash\n",
    "$ cargo build [--release]\n",
    "```\n",
    "\n",
    "This will create the executable `iterator-wordcount` in either the `target/debug` or `target/release` directory. The directory depends on whether you add the `--release` flag to the `cargo build` command. Doing so will build the executable with optimizations.\n",
    "\n",
    "Alternatively, if you would like to build and run all at once, simply run:\n",
    "```bash\n",
    "$ cargo run [--release]\n",
    "```"
   ]
  },
  {
   "cell_type": "markdown",
   "metadata": {},
   "source": [
    "### Macros"
   ]
  },
  {
   "cell_type": "code",
   "execution_count": null,
   "metadata": {},
   "outputs": [],
   "source": []
  }
 ],
 "metadata": {
  "kernelspec": {
   "display_name": "Rust",
   "language": "rust",
   "name": "rust"
  },
  "language_info": {
   "codemirror_mode": "rust",
   "file_extension": ".rs",
   "mimetype": "text/rust",
   "name": "Rust",
   "pygment_lexer": "rust",
   "version": ""
  }
 },
 "nbformat": 4,
 "nbformat_minor": 4
}
